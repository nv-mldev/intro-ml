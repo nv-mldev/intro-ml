{
 "cells": [
  {
   "cell_type": "markdown",
   "metadata": {},
   "source": [
    "## Example of a symbolic AI"
   ]
  },
  {
   "cell_type": "code",
   "execution_count": 1,
   "metadata": {},
   "outputs": [
    {
     "name": "stdout",
     "output_type": "stream",
     "text": [
      "Diagnosis: Diagnosis unclear. Consult a doctor.\n"
     ]
    }
   ],
   "source": [
    "# Simple Symbolic AI (Rule-Based Expert System for Diagnosis)\n",
    "def diagnose(symptoms):\n",
    "    rules = {\n",
    "        \"fever and cough\": \"You might have the flu.\",\n",
    "        \"fever and rash\": \"You might have measles.\",\n",
    "        \"headache and nausea\": \"You might have a migraine.\",\n",
    "        \"sore throat and fever\": \"You might have strep throat.\",\n",
    "        \"fatigue and joint pain\": \"You might have Lyme disease.\"\n",
    "    }\n",
    "    \n",
    "    # Convert symptoms to a lowercase string format\n",
    "    symptoms_key = \" and \".join(sorted(symptoms)).lower()\n",
    "    \n",
    "    # Match symptoms with rules\n",
    "    return rules.get(symptoms_key, \"Diagnosis unclear. Consult a doctor.\")\n",
    "\n",
    "# Example usage\n",
    "user_symptoms = [\"Fever\", \"Cough\"]\n",
    "diagnosis = diagnose(user_symptoms)\n",
    "print(f\"Diagnosis: {diagnosis}\")"
   ]
  }
 ],
 "metadata": {
  "kernelspec": {
   "display_name": ".venv",
   "language": "python",
   "name": "python3"
  },
  "language_info": {
   "codemirror_mode": {
    "name": "ipython",
    "version": 3
   },
   "file_extension": ".py",
   "mimetype": "text/x-python",
   "name": "python",
   "nbconvert_exporter": "python",
   "pygments_lexer": "ipython3",
   "version": "3.12.3"
  }
 },
 "nbformat": 4,
 "nbformat_minor": 2
}
